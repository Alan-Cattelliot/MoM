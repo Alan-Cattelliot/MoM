{
 "cells": [
  {
   "cell_type": "code",
   "execution_count": 1,
   "metadata": {},
   "outputs": [],
   "source": [
    "from __future__ import print_function\n",
    "\n",
    "%load_ext autoreload\n",
    "%autoreload 2\n",
    " \n",
    "import pandas as pd\n",
    "import numpy as np\n",
    "import matplotlib.pyplot as plt\n",
    "from ipywidgets import interact, interactive, fixed, interact_manual\n",
    "import ipywidgets as widgets\n",
    "from ipywidgets import Button, HBox, VBox, Box, Layout"
   ]
  },
  {
   "cell_type": "code",
   "execution_count": 2,
   "metadata": {},
   "outputs": [
    {
     "data": {
      "text/html": [
       "        <script type=\"text/javascript\">\n",
       "        window.PlotlyConfig = {MathJaxConfig: 'local'};\n",
       "        if (window.MathJax) {MathJax.Hub.Config({SVG: {font: \"STIX-Web\"}});}\n",
       "        if (typeof require !== 'undefined') {\n",
       "        require.undef(\"plotly\");\n",
       "        requirejs.config({\n",
       "            paths: {\n",
       "                'plotly': ['https://cdn.plot.ly/plotly-latest.min']\n",
       "            }\n",
       "        });\n",
       "        require(['plotly'], function(Plotly) {\n",
       "            window._Plotly = Plotly;\n",
       "        });\n",
       "        }\n",
       "        </script>\n",
       "        "
      ]
     },
     "metadata": {},
     "output_type": "display_data"
    }
   ],
   "source": [
    "import plotly.io as pio\n",
    "import plotly.graph_objects as go\n",
    "import plotly.express as px\n",
    "from plotly.offline import iplot, init_notebook_mode\n",
    "import cufflinks as cf\n",
    "cf.go_offline(connected=True)\n",
    "cf.set_config_file(theme='pearl')"
   ]
  },
  {
   "cell_type": "code",
   "execution_count": 3,
   "metadata": {},
   "outputs": [],
   "source": [
    "# Import yfinance\n",
    "import yfinance as yf\n"
   ]
  },
  {
   "cell_type": "code",
   "execution_count": 4,
   "metadata": {},
   "outputs": [],
   "source": [
    "query = widgets.Text(\n",
    "                        value='',\n",
    "                        placeholder='Ticker here...',\n",
    "                        description='Analysis of',\n",
    "                        disabled=False,\n",
    "                        continuous_update=False,\n",
    "    )"
   ]
  },
  {
   "cell_type": "code",
   "execution_count": 5,
   "metadata": {},
   "outputs": [],
   "source": [
    "stocks_init = pd.DataFrame(columns=['Date',\n",
    "                                    'ticker',\n",
    "                               'Open',\n",
    "                               'High',\n",
    "                               'Low',\n",
    "                               'Close',\n",
    "                               'Volume',\n",
    "                               'Dividends',\n",
    "                               'Stock',\n",
    "                               'Splits'])\n",
    "\n",
    "# Get the data for the stock  by specifying the stock ticker, start date, and end date\n",
    "def grabstock(ticker,stocks):\n",
    "        # Add suffix for the Paris market\n",
    "        #ticker = ticker + '.PA'\n",
    "        yfdata = yf.Ticker(ticker)\n",
    "        yfdata = yfdata.history(period=\"max\")\n",
    "        if len(yfdata) == 0:\n",
    "                print('>> lack '+ticker)\n",
    "                return stocks\n",
    "        else:\n",
    "                yfdata['ticker'] = ticker[0:-3]\n",
    "                # ignore_index=False permet de preserver les dates\n",
    "                stocks = stocks.append(yfdata, ignore_index=False)\n",
    "                return stocks\n",
    "            \n",
    "def response(change):\n",
    "            Ticker = str(query.value)\n",
    "            stocks = grabstock(str(query.value),stocks_init)\n",
    "            live_data = pd.DataFrame(stocks)\n",
    "            ## On calcule la vitesse et l'acceleration\n",
    "            ## !! pour continuer, executer d'abord ##Extract Structural Datas\n",
    "            live_augmented_datas =  np.array([live_data.Close.values[0:-2],\n",
    "                                  live_data.Close[1:-1].values-live_data.Close.values[0:-2],\n",
    "                                  live_data.Close[2::].values-2*live_data.Close.values[1:-1]+live_data.Close[0:-2].values]\n",
    "                                        )\n",
    "            live_augmented_datas = np.transpose(live_augmented_datas)\n",
    "            live_augmented_datas = pd.DataFrame(live_augmented_datas, columns=['Value','Velocity','Acceleration'])\n",
    "            # Structure calculation\n",
    "            sol = np.array([]).reshape(0,2)\n",
    "            for i in range(0,len(live_augmented_datas)-1):\n",
    "                    B = [live_augmented_datas.loc[i].Acceleration,\n",
    "                         live_augmented_datas.loc[i+1].Acceleration]\n",
    "                    A = [[live_augmented_datas.loc[i].Velocity,live_augmented_datas.loc[i].Value],\n",
    "                         [live_augmented_datas.loc[i+1].Velocity,live_augmented_datas.loc[i+1].Value]]\n",
    "                    if np.linalg.det(A) == 0:\n",
    "                        results = [0,0]\n",
    "                        sol = np.vstack((sol,results))\n",
    "                    else:\n",
    "                        results = np.linalg.solve(A,B)\n",
    "                        sol = np.vstack((sol,results))\n",
    "            structural_datas = pd.DataFrame(sol, columns=['Friction','Stiffness'])\n",
    "            structural_datas['Delta'] = np.sqrt(structural_datas['Friction']*structural_datas['Friction']/4-structural_datas['Stiffness'])\n",
    "            live_augmented_datas = live_augmented_datas.join(structural_datas)\n",
    "            live_augmented_datas = live_augmented_datas.fillna(0)\n",
    "            live_augmented_datas['Index'] = live_data.index[0:-2]\n",
    "            with fig1.batch_update():\n",
    "                fig3.data[0].x = live_augmented_datas.Index\n",
    "                fig3.data[0].y = live_augmented_datas.Value\n",
    "                fig2.data[0].x = live_augmented_datas.Value\n",
    "                fig2.data[0].y = live_augmented_datas.Velocity\n",
    "                fig2.data[0].marker.color = live_augmented_datas.index\n",
    "                fig1.data[0].header.values = list(live_augmented_datas.columns)\n",
    "                fig1.data[0].cells.values = [live_augmented_datas[k].tolist() for k in live_augmented_datas.columns]\n",
    "        \n",
    "           # [live_augmented_datas.Velocity.eq(0)]"
   ]
  },
  {
   "cell_type": "code",
   "execution_count": 6,
   "metadata": {},
   "outputs": [
    {
     "data": {
      "application/vnd.jupyter.widget-view+json": {
       "model_id": "986feb73dc71463c81271bcd53d7e926",
       "version_major": 2,
       "version_minor": 0
      },
      "text/plain": [
       "VBox(children=(Text(value='', continuous_update=False, description='Analysis of', placeholder='Ticker here...'…"
      ]
     },
     "metadata": {},
     "output_type": "display_data"
    },
    {
     "name": "stderr",
     "output_type": "stream",
     "text": [
      "c:\\users\\alan\\appdata\\local\\programs\\python\\python37\\lib\\site-packages\\pandas\\core\\series.py:679: RuntimeWarning:\n",
      "\n",
      "invalid value encountered in sqrt\n",
      "\n"
     ]
    }
   ],
   "source": [
    "\n",
    "trace1 = go.Scatter(x = stocks_init.Date,  \n",
    "               y = stocks_init.Close,\n",
    "              # marker=dict(\n",
    "              #          color = live_augmented_datas['Friction'],\n",
    "              #         size = abs(live_augmented_datas['Velocity']),\n",
    "              #          colorscale='Viridis',\n",
    "              #      ),\n",
    "               mode = 'lines',\n",
    "    )\n",
    "fig3 = go.FigureWidget(data=[trace1],\n",
    "                    )\n",
    "fig3.update_layout(title_text = \" Stock Price history\",\n",
    "      xaxis=dict(\n",
    "\n",
    "        rangeslider=dict(\n",
    "            visible=True\n",
    "            ),\n",
    "        type=\"date\"\n",
    "    ),\n",
    "         )\n",
    "query.observe(response, names='value')\n",
    "VBox([query,fig3])"
   ]
  },
  {
   "cell_type": "code",
   "execution_count": 7,
   "metadata": {},
   "outputs": [
    {
     "data": {
      "application/vnd.jupyter.widget-view+json": {
       "model_id": "c41c6e8052f548da945d833c3e403f85",
       "version_major": 2,
       "version_minor": 0
      },
      "text/plain": [
       "FigureWidget({\n",
       "    'data': [{'mode': 'markers',\n",
       "              'type': 'scatter',\n",
       "              'uid': '1f9fae7…"
      ]
     },
     "metadata": {},
     "output_type": "display_data"
    }
   ],
   "source": [
    "trace2 = go.Scatter( x=stocks_init.Close, \n",
    "                     y=stocks_init.High,\n",
    "                     #color= stocks_init.index,\n",
    "                     #size=abs(live_augmented_datas.Stiffness),\n",
    "                     #color_continuous_scale = 'plasma',\n",
    "                     #marginal_y=\"violin\",\n",
    "                     #marginal_x=\"violin\",\n",
    "                     mode = 'markers',\n",
    "                  )\n",
    "fig2 = go.FigureWidget(data=[trace2],\n",
    "                    )\n",
    "\n",
    "fig2.update_layout(title_text = \" Value and Trend over time\",\n",
    "                  #xaxis_rangeslider_visible=True,\n",
    "                 )"
   ]
  },
  {
   "cell_type": "code",
   "execution_count": 8,
   "metadata": {},
   "outputs": [
    {
     "data": {
      "application/vnd.jupyter.widget-view+json": {
       "model_id": "4890d6f4762943a4a35a136eec0dd577",
       "version_major": 2,
       "version_minor": 0
      },
      "text/plain": [
       "FigureWidget({\n",
       "    'data': [{'cells': {'align': 'left', 'fill': {'color': 'lavender'}, 'values': [[], [], []]}…"
      ]
     },
     "metadata": {},
     "output_type": "display_data"
    }
   ],
   "source": [
    "trace3 = go.Table(\n",
    "    header=dict(values=list(['Value', 'Friction', 'Stiffness']),\n",
    "                fill_color='paleturquoise',\n",
    "                align='left'),\n",
    "    cells=dict(values=[stocks_init.Close, stocks_init.Volume, stocks_init.Date],\n",
    "               fill_color='lavender',\n",
    "               align='left'))\n",
    "\n",
    "fig1 = go.FigureWidget(data=[trace3],\n",
    "                    )\n",
    "fig1.update_layout(title_text = \" Buy&Sell Values\",\n",
    "                  #xaxis_rangeslider_visible=True,\n",
    "                 )"
   ]
  },
  {
   "cell_type": "code",
   "execution_count": null,
   "metadata": {},
   "outputs": [],
   "source": []
  },
  {
   "cell_type": "code",
   "execution_count": null,
   "metadata": {},
   "outputs": [],
   "source": []
  }
 ],
 "metadata": {
  "kernelspec": {
   "display_name": "Python 3",
   "language": "python",
   "name": "python3"
  },
  "language_info": {
   "codemirror_mode": {
    "name": "ipython",
    "version": 3
   },
   "file_extension": ".py",
   "mimetype": "text/x-python",
   "name": "python",
   "nbconvert_exporter": "python",
   "pygments_lexer": "ipython3",
   "version": "3.7.4"
  }
 },
 "nbformat": 4,
 "nbformat_minor": 2
}
